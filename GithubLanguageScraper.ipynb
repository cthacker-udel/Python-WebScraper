{
 "cells": [
  {
   "cell_type": "markdown",
   "metadata": {
    "collapsed": true,
    "pycharm": {
     "name": "#%% md\n"
    }
   },
   "source": [
    "![Github Logo](https://img.stackshare.io/service/27/sBsvBbjY.png)\n",
    "# Github Repository Language Scraper\n",
    "> Author - Cameron Thacker (cthacker@udel.edu)\n",
    "\n",
    "## Introduction - Purpose\n",
    "\n",
    "---\n",
    "\n",
    "The purpose of this project is to utilize a webscraper to scrape your Github profile, and grab all languages utilized in the entire profile's repository, including the languages that only appear once the repository is selected individually. *Currently the repository tab itself only displays the most used language, not every language utilized in each repository.* Once the data has been scraped, graphs will be displayed representing the languages used."
   ]
  },
  {
   "cell_type": "code",
   "execution_count": null,
   "outputs": [],
   "source": [
    "# <<----- Imports ----->>\n",
    "\n",
    "import matplotlib.pyplot as plt\n",
    "from bs4 import BeautifulSoup\n",
    "import requests\n",
    "from pprint import pprint\n",
    "from selenium import webdriver\n",
    "import urllib\n",
    "from webdriver_manager.chrome import ChromeDriverManager\n",
    "from webdriver_manager.firefox import DriverManager as FirefoxDriverManager\n",
    "from webdriver_manager.opera import DriverManager as OperaDriverManager\n",
    "from selenium_stealth import stealth\n",
    "import time\n",
    "from bs4.builder import builder_registry"
   ],
   "metadata": {
    "collapsed": false,
    "pycharm": {
     "name": "#%%\n"
    }
   }
  },
  {
   "cell_type": "code",
   "execution_count": null,
   "outputs": [],
   "source": [],
   "metadata": {
    "collapsed": false,
    "pycharm": {
     "name": "#%%\n"
    }
   }
  }
 ],
 "metadata": {
  "kernelspec": {
   "display_name": "Python 3",
   "language": "python",
   "name": "python3"
  },
  "language_info": {
   "codemirror_mode": {
    "name": "ipython",
    "version": 2
   },
   "file_extension": ".py",
   "mimetype": "text/x-python",
   "name": "python",
   "nbconvert_exporter": "python",
   "pygments_lexer": "ipython2",
   "version": "2.7.6"
  }
 },
 "nbformat": 4,
 "nbformat_minor": 0
}